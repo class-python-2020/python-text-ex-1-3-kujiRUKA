{
 "metadata": {
  "language_info": {
   "codemirror_mode": {
    "name": "ipython",
    "version": 3
   },
   "file_extension": ".py",
   "mimetype": "text/x-python",
   "name": "python",
   "nbconvert_exporter": "python",
   "pygments_lexer": "ipython3",
   "version": 3
  },
  "orig_nbformat": 2,
  "kernelspec": {
   "name": "python_defaultSpec_1596775427390",
   "display_name": "Python 3.8.2 32-bit"
  }
 },
 "nbformat": 4,
 "nbformat_minor": 2,
 "cells": [
  {
   "cell_type": "code",
   "execution_count": 5,
   "metadata": {},
   "outputs": [
    {
     "output_type": "execute_result",
     "data": {
      "text/plain": "'{\"0\": [1, 2, 3, 4, 5], \"1\": [6, 7, 8, 9, 10], \"2\": {\"a\": [11, 12, 13], \"b\": [14, 15, 16]}}'"
     },
     "metadata": {},
     "execution_count": 5
    }
   ],
   "source": [
    "# josn\n",
    "# シリアライズ\n",
    "import json \n",
    "x = {0: [1, 2, 3, 4, 5], 1: [6, 7, 8, 9, 10], 2: {'a': [11, 12, 13], 'b': [14, 15, 16]}}\n",
    "jds = json.dumps(x)\n",
    "jds"
   ]
  },
  {
   "cell_type": "code",
   "execution_count": 6,
   "metadata": {},
   "outputs": [
    {
     "output_type": "execute_result",
     "data": {
      "text/plain": "{'0': [1, 2, 3, 4, 5],\n '1': [6, 7, 8, 9, 10],\n '2': {'a': [11, 12, 13], 'b': [14, 15, 16]}}"
     },
     "metadata": {},
     "execution_count": 6
    }
   ],
   "source": [
    "# デシリアライズ\n",
    "x2 = json.loads(jds)\n",
    "x2"
   ]
  },
  {
   "cell_type": "code",
   "execution_count": 9,
   "metadata": {},
   "outputs": [],
   "source": [
    "# JSON 正式でのファイル保存\n",
    "import json\n",
    "with open('test1.json', 'w') as f:\n",
    "    json.dump(x, f)"
   ]
  },
  {
   "cell_type": "code",
   "execution_count": 10,
   "metadata": {},
   "outputs": [
    {
     "output_type": "execute_result",
     "data": {
      "text/plain": "{'0': [1, 2, 3, 4, 5],\n '1': [6, 7, 8, 9, 10],\n '2': {'a': [11, 12, 13], 'b': [14, 15, 16]}}"
     },
     "metadata": {},
     "execution_count": 10
    }
   ],
   "source": [
    "# JSON 形式ファイルの読み込み\n",
    "import json\n",
    "with open('test1.json', 'r') as f:\n",
    "    x3 = json.load(f)\n",
    "x3"
   ]
  },
  {
   "cell_type": "code",
   "execution_count": 11,
   "metadata": {
    "tags": []
   },
   "outputs": [
    {
     "output_type": "stream",
     "name": "stdout",
     "text": "Not JSON Format\n"
    }
   ],
   "source": [
    "# JSON 形式の確認\n",
    "my_text = \"{'a':1 \"\n",
    "try:\n",
    "    json.loads(my_text)\n",
    "except json.JSONDecodeError as e:\n",
    "    print('Not JSON Format')\n",
    "else:\n",
    "    print('JSON Format')"
   ]
  },
  {
   "cell_type": "code",
   "execution_count": 12,
   "metadata": {
    "tags": []
   },
   "outputs": [
    {
     "output_type": "stream",
     "name": "stdout",
     "text": "tanaka {'age': 20, 'bloodtype': 'A', 'gender': 'male'}\nsaatou {'age': 19, 'bloodtype': 'O', 'gender': 'female'}\nsuzuki {'age': 20, 'bloodtype': 'AB', 'gender': 'male'}\n"
    }
   ],
   "source": [
    "import json\n",
    "\n",
    "name_list = {\n",
    "    'tanaka':{\n",
    "        'age':20,\n",
    "        'bloodtype':'A',\n",
    "        'gender':'male'\n",
    "    },\n",
    "    'saatou':{\n",
    "        'age':19,\n",
    "        'bloodtype':'O',\n",
    "        'gender':'female'\n",
    "    },\n",
    "    'suzuki':{\n",
    "        'age':20,\n",
    "        'bloodtype':'AB',\n",
    "        'gender':'male'\n",
    "    }\n",
    "}\n",
    "\n",
    "with open('name_list.json', 'w') as f1:\n",
    "    json.dump(name_list, f1)\n",
    "\n",
    "with open('name_list.json', 'r') as f2:\n",
    "    name_list_l = json.load(f2)\n",
    "\n",
    "for key, val in name_list_l.items():\n",
    "    print(key, val)"
   ]
  }
 ]
}