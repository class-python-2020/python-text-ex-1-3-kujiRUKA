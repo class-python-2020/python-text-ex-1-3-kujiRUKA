{
 "metadata": {
  "language_info": {
   "codemirror_mode": {
    "name": "ipython",
    "version": 3
   },
   "file_extension": ".py",
   "mimetype": "text/x-python",
   "name": "python",
   "nbconvert_exporter": "python",
   "pygments_lexer": "ipython3",
   "version": "3.8.2-final"
  },
  "orig_nbformat": 2,
  "kernelspec": {
   "name": "python38232bitefe644632efe4e06a76564c1a0213443",
   "display_name": "Python 3.8.2 32-bit"
  }
 },
 "nbformat": 4,
 "nbformat_minor": 2,
 "cells": [
  {
   "cell_type": "code",
   "execution_count": 2,
   "metadata": {},
   "outputs": [],
   "source": [
    "# リストのメソッド\n",
    "#　要素の追加( append )\n",
    "square = []\n",
    "square.append(1)\n",
    "square.append(4)\n",
    "square.append(9)\n",
    "square.append(16)\n",
    "square.append(25)"
   ]
  },
  {
   "cell_type": "code",
   "execution_count": 3,
   "metadata": {},
   "outputs": [
    {
     "output_type": "execute_result",
     "data": {
      "text/plain": "[1, 4, 9, 16, 25]"
     },
     "metadata": {},
     "execution_count": 3
    }
   ],
   "source": [
    "square"
   ]
  },
  {
   "cell_type": "code",
   "execution_count": 4,
   "metadata": {},
   "outputs": [],
   "source": [
    "# リストの追加( extend )\n",
    "square2 = [36, 49]\n",
    "square.extend(square2)"
   ]
  },
  {
   "cell_type": "code",
   "execution_count": 5,
   "metadata": {},
   "outputs": [
    {
     "output_type": "execute_result",
     "data": {
      "text/plain": "[1, 4, 9, 16, 25, 36, 49]"
     },
     "metadata": {},
     "execution_count": 5
    }
   ],
   "source": [
    "square"
   ]
  },
  {
   "cell_type": "code",
   "execution_count": 6,
   "metadata": {},
   "outputs": [],
   "source": [
    "# 指定位置への要素の挿入　( insert )\n",
    "square.insert(2, 7)   # 添え字　2　のところに　要素　7　を挿入"
   ]
  },
  {
   "cell_type": "code",
   "execution_count": 7,
   "metadata": {},
   "outputs": [
    {
     "output_type": "execute_result",
     "data": {
      "text/plain": "[1, 4, 7, 9, 16, 25, 36, 49]"
     },
     "metadata": {},
     "execution_count": 7
    }
   ],
   "source": [
    "square"
   ]
  },
  {
   "cell_type": "code",
   "execution_count": 8,
   "metadata": {},
   "outputs": [],
   "source": [
    "# 指定した値の要素の削除 ( remove )\n",
    "square.remove(7)"
   ]
  },
  {
   "cell_type": "code",
   "execution_count": 9,
   "metadata": {},
   "outputs": [
    {
     "output_type": "execute_result",
     "data": {
      "text/plain": "[1, 4, 9, 16, 25, 36, 49]"
     },
     "metadata": {},
     "execution_count": 9
    }
   ],
   "source": [
    "square"
   ]
  },
  {
   "cell_type": "code",
   "execution_count": 10,
   "metadata": {},
   "outputs": [
    {
     "output_type": "execute_result",
     "data": {
      "text/plain": "4"
     },
     "metadata": {},
     "execution_count": 10
    }
   ],
   "source": [
    "# 指定位置の要素の削除と取得 ( pop )\n",
    "square.pop(1)"
   ]
  },
  {
   "cell_type": "code",
   "execution_count": 11,
   "metadata": {},
   "outputs": [
    {
     "output_type": "execute_result",
     "data": {
      "text/plain": "[1, 9, 16, 25, 36, 49]"
     },
     "metadata": {},
     "execution_count": 11
    }
   ],
   "source": [
    "square"
   ]
  },
  {
   "cell_type": "code",
   "execution_count": 12,
   "metadata": {},
   "outputs": [],
   "source": [
    "# 全要素の削除　( clear )\n",
    "square.clear()"
   ]
  },
  {
   "cell_type": "code",
   "execution_count": 13,
   "metadata": {},
   "outputs": [
    {
     "output_type": "execute_result",
     "data": {
      "text/plain": "[]"
     },
     "metadata": {},
     "execution_count": 13
    }
   ],
   "source": [
    "square"
   ]
  },
  {
   "cell_type": "code",
   "execution_count": 15,
   "metadata": {},
   "outputs": [
    {
     "output_type": "execute_result",
     "data": {
      "text/plain": "3"
     },
     "metadata": {},
     "execution_count": 15
    }
   ],
   "source": [
    "# 指定した値の最初の要素のインデックスを返す( index )\n",
    "square = [1, 4, 9, 16, 25]\n",
    "square.index(16)"
   ]
  },
  {
   "cell_type": "code",
   "execution_count": 16,
   "metadata": {},
   "outputs": [
    {
     "output_type": "execute_result",
     "data": {
      "text/plain": "1"
     },
     "metadata": {},
     "execution_count": 16
    }
   ],
   "source": [
    "# 指定値の要素のカウント　( count )\n",
    "square = [1, 4, 9, 16, 25]\n",
    "square.count(16)"
   ]
  },
  {
   "cell_type": "code",
   "execution_count": 17,
   "metadata": {},
   "outputs": [
    {
     "output_type": "execute_result",
     "data": {
      "text/plain": "[1, 4, 9, 16, 25]"
     },
     "metadata": {},
     "execution_count": 17
    }
   ],
   "source": [
    "# リストをソートする( sort )\n",
    "square = [16, 9, 25, 1, 4]\n",
    "square.sort()\n",
    "square"
   ]
  },
  {
   "cell_type": "code",
   "execution_count": 18,
   "metadata": {},
   "outputs": [
    {
     "output_type": "execute_result",
     "data": {
      "text/plain": "[[99, 58, 33], [5, 8, 10], [21, 2, 9], [7, 3, 2]]"
     },
     "metadata": {},
     "execution_count": 18
    }
   ],
   "source": [
    "x = [[5, 8, 10], [7, 3, 2], [21, 2, 9], [99, 58, 33]]\n",
    "x.sort(key=lambda x: x[2], reverse=True)\n",
    "x"
   ]
  },
  {
   "cell_type": "code",
   "execution_count": 19,
   "metadata": {},
   "outputs": [
    {
     "output_type": "execute_result",
     "data": {
      "text/plain": "[25, 16, 9, 4, 1]"
     },
     "metadata": {},
     "execution_count": 19
    }
   ],
   "source": [
    "# リストを逆順にする( reverse)\n",
    "square = [1, 4, 9, 16, 25]\n",
    "square.reverse()\n",
    "square"
   ]
  },
  {
   "cell_type": "code",
   "execution_count": 20,
   "metadata": {},
   "outputs": [
    {
     "output_type": "execute_result",
     "data": {
      "text/plain": "[[1, 4, 9], [16, 25]]"
     },
     "metadata": {},
     "execution_count": 20
    }
   ],
   "source": [
    "# リストをコピー\n",
    "square = [[1, 4, 9], [16, 25]]\n",
    "square2 = square.copy()\n",
    "square2"
   ]
  },
  {
   "cell_type": "code",
   "execution_count": 1,
   "metadata": {
    "tags": []
   },
   "outputs": [
    {
     "output_type": "stream",
     "name": "stdout",
     "text": "Suzuki\n"
    }
   ],
   "source": [
    "members = ['Yamada', 'Tanaka','Satou', 'Suzuki']\n",
    "name = members.pop(3)\n",
    "print(name)"
   ]
  },
  {
   "cell_type": "code",
   "execution_count": 2,
   "metadata": {
    "tags": []
   },
   "outputs": [
    {
     "output_type": "stream",
     "name": "stdout",
     "text": "stack: [1]\nstack: [1, 2]\npop 1st value : 2\npop 2nd value : 1\nstack : []\n"
    }
   ],
   "source": [
    "stack = []\n",
    "stack.append(1)\n",
    "print('stack:',stack)\n",
    "stack.append(2)\n",
    "print('stack:',stack)\n",
    "print('pop 1st value :', stack.pop())\n",
    "print('pop 2nd value :', stack.pop())\n",
    "print('stack :',stack)"
   ]
  },
  {
   "cell_type": "code",
   "execution_count": 3,
   "metadata": {
    "tags": []
   },
   "outputs": [
    {
     "output_type": "stream",
     "name": "stdout",
     "text": "queue : [1]\nqueue : [1, 2]\npop from queue 1st value : 1\npop from queue 2nd value : 2\nqueue : []\n"
    }
   ],
   "source": [
    "queue = []\n",
    "queue.append(1)\n",
    "print('queue :',queue)\n",
    "queue.append(2)\n",
    "print('queue :',queue)\n",
    "print('pop from queue 1st value :',queue.pop(0))\n",
    "print('pop from queue 2nd value :', queue.pop(0))\n",
    "print('queue :',queue)"
   ]
  },
  {
   "cell_type": "code",
   "execution_count": 4,
   "metadata": {},
   "outputs": [
    {
     "output_type": "execute_result",
     "data": {
      "text/plain": "[[1, 2], [3, 4]]"
     },
     "metadata": {},
     "execution_count": 4
    }
   ],
   "source": [
    "#浅いコピーと深いコピー\n",
    "a = [1, 2]\n",
    "b = [3, 4]\n",
    "x = [a, b]\n",
    "x"
   ]
  },
  {
   "cell_type": "code",
   "execution_count": 5,
   "metadata": {},
   "outputs": [
    {
     "output_type": "execute_result",
     "data": {
      "text/plain": "[[99, 2], [3, 4]]"
     },
     "metadata": {},
     "execution_count": 5
    }
   ],
   "source": [
    "a[0] = 99\n"
   ]
  },
  {
   "cell_type": "code",
   "execution_count": 6,
   "metadata": {},
   "outputs": [
    {
     "output_type": "execute_result",
     "data": {
      "text/plain": "[[4, 4, 9], [16, 25]]"
     },
     "metadata": {},
     "execution_count": 6
    }
   ],
   "source": [
    "#浅いコピーのあと、コピーもとの複合オブジェクト中のオブジェクトを変更\n",
    "import copy\n",
    "square = [[1, 4, 9], [16, 25]]\n",
    "square2 = copy.copy(square)\n",
    "square[0][0] = 4   #[1, 4, 9]の'1'を変更\n",
    "square2"
   ]
  },
  {
   "cell_type": "code",
   "execution_count": 7,
   "metadata": {},
   "outputs": [
    {
     "output_type": "execute_result",
     "data": {
      "text/plain": "[[36], [16, 25]]"
     },
     "metadata": {},
     "execution_count": 7
    }
   ],
   "source": [
    "#浅いコピーのあとに、コピーもとの複合オブジェクト中のオブジェクトを上書き\n",
    "import copy\n",
    "square = [[1, 4, 9], [16, 25]]\n",
    "square2 = copy.copy(square)\n",
    "square[0] = [36]\n",
    "square"
   ]
  },
  {
   "cell_type": "code",
   "execution_count": 8,
   "metadata": {},
   "outputs": [
    {
     "output_type": "execute_result",
     "data": {
      "text/plain": "[[1, 4, 9], [16, 25]]"
     },
     "metadata": {},
     "execution_count": 8
    }
   ],
   "source": [
    "square2"
   ]
  },
  {
   "cell_type": "code",
   "execution_count": 9,
   "metadata": {},
   "outputs": [
    {
     "output_type": "execute_result",
     "data": {
      "text/plain": "[[36], [16, 25]]"
     },
     "metadata": {},
     "execution_count": 9
    }
   ],
   "source": [
    "#代入した後に、代入もとの複合オブジェクト中のオブジェクトを上書き\n",
    "import copy\n",
    "square = [[1, 4, 9], [16, 25]]\n",
    "square2 = square\n",
    "square[0] = [36]\n",
    "square"
   ]
  },
  {
   "cell_type": "code",
   "execution_count": 10,
   "metadata": {},
   "outputs": [
    {
     "output_type": "execute_result",
     "data": {
      "text/plain": "[[36], [16, 25]]"
     },
     "metadata": {},
     "execution_count": 10
    }
   ],
   "source": [
    "square2"
   ]
  },
  {
   "cell_type": "code",
   "execution_count": 11,
   "metadata": {},
   "outputs": [
    {
     "output_type": "execute_result",
     "data": {
      "text/plain": "[[1, 4, 9], [16, 25]]"
     },
     "metadata": {},
     "execution_count": 11
    }
   ],
   "source": [
    "#深いコピーのあとに、コピーもとの複合オブジェクト中のオブジェクトを変更し、上書き\n",
    "import copy\n",
    "square = [[1, 4, 9], [16, 25]]\n",
    "square2 = copy.deepcopy(square)\n",
    "square[0][0] = 99\n",
    "square[1] = 999\n",
    "square2"
   ]
  }
 ]
}