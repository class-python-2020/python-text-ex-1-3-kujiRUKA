{
 "cells": [
  {
   "cell_type": "code",
   "execution_count": null,
   "metadata": {},
   "outputs": [],
   "source": [
    "import random"
   ]
  },
  {
   "cell_type": "code",
   "execution_count": null,
   "metadata": {},
   "outputs": [],
   "source": [
    "from random import randint"
   ]
  },
  {
   "cell_type": "code",
   "execution_count": 1,
   "metadata": {
    "tags": []
   },
   "outputs": [
    {
     "output_type": "stream",
     "name": "stdout",
     "text": "5\n"
    }
   ],
   "source": [
    "from random import randint\n",
    "print(randint(0, 10))"
   ]
  },
  {
   "cell_type": "code",
   "execution_count": 3,
   "metadata": {
    "tags": []
   },
   "outputs": [
    {
     "output_type": "stream",
     "name": "stdout",
     "text": "9\na\n"
    }
   ],
   "source": [
    "from random import randint, choice\n",
    "print(randint(0, 10))\n",
    "print(choice(['a', 'b', 'c']))"
   ]
  },
  {
   "cell_type": "code",
   "execution_count": 10,
   "metadata": {
    "tags": []
   },
   "outputs": [
    {
     "output_type": "stream",
     "name": "stdout",
     "text": "4\n"
    }
   ],
   "source": [
    "from random import *\n",
    "print(randint(0, 10))"
   ]
  },
  {
   "cell_type": "code",
   "execution_count": 11,
   "metadata": {
    "tags": []
   },
   "outputs": [
    {
     "output_type": "stream",
     "name": "stdout",
     "text": "4\n"
    }
   ],
   "source": [
    "import random as rd\n",
    "print(rd.randint(0, 10))"
   ]
  },
  {
   "cell_type": "code",
   "execution_count": 12,
   "metadata": {},
   "outputs": [
    {
     "output_type": "execute_result",
     "data": {
      "text/plain": "5"
     },
     "metadata": {},
     "execution_count": 12
    }
   ],
   "source": [
    "from random import randint as rint\n",
    "rint(1, 10)"
   ]
  },
  {
   "cell_type": "code",
   "execution_count": 13,
   "metadata": {
    "tags": []
   },
   "outputs": [
    {
     "output_type": "stream",
     "name": "stdout",
     "text": "['c:\\\\Users\\\\Ruka\\\\Documents\\\\GitHub\\\\python-text-ex-1-3-kujiRUKA', 'c:\\\\Users\\\\Ruka\\\\.vscode\\\\extensions\\\\ms-python.python-2020.6.91350\\\\pythonFiles', 'c:\\\\Users\\\\Ruka\\\\.vscode\\\\extensions\\\\ms-python.python-2020.6.91350\\\\pythonFiles\\\\lib\\\\python', 'C:\\\\Users\\\\Ruka\\\\AppData\\\\Local\\\\Programs\\\\Python\\\\Python38-32\\\\python38.zip', 'C:\\\\Users\\\\Ruka\\\\AppData\\\\Local\\\\Programs\\\\Python\\\\Python38-32\\\\DLLs', 'C:\\\\Users\\\\Ruka\\\\AppData\\\\Local\\\\Programs\\\\Python\\\\Python38-32\\\\lib', 'C:\\\\Users\\\\Ruka\\\\AppData\\\\Local\\\\Programs\\\\Python\\\\Python38-32', '', 'C:\\\\Users\\\\Ruka\\\\AppData\\\\Roaming\\\\Python\\\\Python38\\\\site-packages', 'C:\\\\Users\\\\Ruka\\\\AppData\\\\Roaming\\\\Python\\\\Python38\\\\site-packages\\\\win32', 'C:\\\\Users\\\\Ruka\\\\AppData\\\\Roaming\\\\Python\\\\Python38\\\\site-packages\\\\win32\\\\lib', 'C:\\\\Users\\\\Ruka\\\\AppData\\\\Roaming\\\\Python\\\\Python38\\\\site-packages\\\\Pythonwin', 'C:\\\\Users\\\\Ruka\\\\AppData\\\\Local\\\\Programs\\\\Python\\\\Python38-32\\\\lib\\\\site-packages', 'C:\\\\Users\\\\Ruka\\\\AppData\\\\Roaming\\\\Python\\\\Python38\\\\site-packages\\\\IPython\\\\extensions', 'C:\\\\Users\\\\Ruka\\\\.ipython']\n"
    }
   ],
   "source": [
    "import sys\n",
    "print(sys.path)"
   ]
  },
  {
   "cell_type": "code",
   "execution_count": 14,
   "metadata": {},
   "outputs": [
    {
     "output_type": "execute_result",
     "data": {
      "text/plain": "8.0"
     },
     "metadata": {},
     "execution_count": 14
    }
   ],
   "source": [
    "from math import pow\n",
    "pow(2, 3)"
   ]
  },
  {
   "cell_type": "code",
   "execution_count": 15,
   "metadata": {
    "tags": []
   },
   "outputs": [
    {
     "output_type": "stream",
     "name": "stdout",
     "text": "9\n0\n"
    }
   ],
   "source": [
    "import random\n",
    "from random import randint\n",
    "\n",
    "print(random.randint(0, 10))\n",
    "print(randint(0, 10))"
   ]
  }
 ],
 "metadata": {
  "language_info": {
   "codemirror_mode": {
    "name": "ipython",
    "version": 3
   },
   "file_extension": ".py",
   "mimetype": "text/x-python",
   "name": "python",
   "nbconvert_exporter": "python",
   "pygments_lexer": "ipython3",
   "version": 3
  },
  "orig_nbformat": 2,
  "kernelspec": {
   "name": "python_defaultSpec_1594892077942",
   "display_name": "Python 3.8.2 32-bit"
  }
 },
 "nbformat": 4,
 "nbformat_minor": 2
}