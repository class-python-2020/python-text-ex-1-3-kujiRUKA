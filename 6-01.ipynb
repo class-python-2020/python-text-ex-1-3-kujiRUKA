{
 "metadata": {
  "language_info": {
   "codemirror_mode": {
    "name": "ipython",
    "version": 3
   },
   "file_extension": ".py",
   "mimetype": "text/x-python",
   "name": "python",
   "nbconvert_exporter": "python",
   "pygments_lexer": "ipython3",
   "version": 3
  },
  "orig_nbformat": 2,
  "kernelspec": {
   "name": "python_defaultSpec_1596157806950",
   "display_name": "Python 3.8.2 32-bit"
  }
 },
 "nbformat": 4,
 "nbformat_minor": 2,
 "cells": [
  {
   "cell_type": "code",
   "execution_count": 1,
   "metadata": {},
   "outputs": [],
   "source": [
    "# クラスの基本\n",
    "# もっとも簡単なクラス\n",
    "class Car:\n",
    "    pass"
   ]
  },
  {
   "cell_type": "code",
   "execution_count": 2,
   "metadata": {},
   "outputs": [
    {
     "output_type": "execute_result",
     "data": {
      "text/plain": "__main__.Car"
     },
     "metadata": {},
     "execution_count": 2
    }
   ],
   "source": [
    "my_car = Car()\n",
    "type(my_car)"
   ]
  },
  {
   "cell_type": "code",
   "execution_count": 3,
   "metadata": {},
   "outputs": [],
   "source": [
    "# データ属性\n",
    "class Car:\n",
    "    num_wheels = 4"
   ]
  },
  {
   "cell_type": "code",
   "execution_count": 4,
   "metadata": {},
   "outputs": [
    {
     "output_type": "execute_result",
     "data": {
      "text/plain": "4"
     },
     "metadata": {},
     "execution_count": 4
    }
   ],
   "source": [
    "my_car = Car()\n",
    "my_car.num_wheels"
   ]
  },
  {
   "cell_type": "code",
   "execution_count": 5,
   "metadata": {},
   "outputs": [],
   "source": [
    "# メソッド\n",
    "class Car:\n",
    "    weight = 4000\n",
    "    num_wheels = 4\n",
    "\n",
    "    def calc_weight_per_wheel(self):\n",
    "        return 1000.0"
   ]
  },
  {
   "cell_type": "code",
   "execution_count": 6,
   "metadata": {},
   "outputs": [
    {
     "output_type": "execute_result",
     "data": {
      "text/plain": "1000.0"
     },
     "metadata": {},
     "execution_count": 6
    }
   ],
   "source": [
    "my_car = Car()\n",
    "my_car.calc_weight_per_wheel()"
   ]
  },
  {
   "cell_type": "code",
   "execution_count": 7,
   "metadata": {},
   "outputs": [],
   "source": [
    "# self について\n",
    "class Car:\n",
    "    weight = 4000\n",
    "    num_wheels = 4\n",
    "\n",
    "    def calc_weight_per_wheel(self):\n",
    "        return self.weight / self.num_wheels"
   ]
  },
  {
   "cell_type": "code",
   "execution_count": 8,
   "metadata": {},
   "outputs": [
    {
     "output_type": "execute_result",
     "data": {
      "text/plain": "1000.0"
     },
     "metadata": {},
     "execution_count": 8
    }
   ],
   "source": [
    "my_car = Car()\n",
    "my_car.calc_weight_per_wheel()"
   ]
  },
  {
   "cell_type": "code",
   "execution_count": 11,
   "metadata": {},
   "outputs": [],
   "source": [
    "# 初期化メソッド\n",
    "class Car:\n",
    "    weight = 4000\n",
    "    num_wheels = 4\n",
    "\n",
    "    def __init__(self, car_name='NoName'):\n",
    "        self.name = car_name\n",
    "\n",
    "    def calc_weight_per_wheel(self):\n",
    "        return self.weight / self.num_wheels\n",
    "\n",
    "default_car = Car()"
   ]
  },
  {
   "cell_type": "code",
   "execution_count": 12,
   "metadata": {},
   "outputs": [
    {
     "output_type": "execute_result",
     "data": {
      "text/plain": "'NoName'"
     },
     "metadata": {},
     "execution_count": 12
    }
   ],
   "source": [
    "default_car.name"
   ]
  },
  {
   "cell_type": "code",
   "execution_count": 13,
   "metadata": {},
   "outputs": [
    {
     "output_type": "execute_result",
     "data": {
      "text/plain": "'DeLorean'"
     },
     "metadata": {},
     "execution_count": 13
    }
   ],
   "source": [
    "my_car = Car('DeLorean')\n",
    "my_car.name"
   ]
  },
  {
   "cell_type": "code",
   "execution_count": 14,
   "metadata": {},
   "outputs": [],
   "source": [
    "class Cat:\n",
    "    cry = 'にゃ～'\n",
    "    legs = 4\n",
    "    is_animal = True"
   ]
  },
  {
   "cell_type": "code",
   "execution_count": 15,
   "metadata": {
    "tags": []
   },
   "outputs": [
    {
     "output_type": "stream",
     "name": "stdout",
     "text": "鳴き声:にゃ～, 足の数:4, 動物:True\n"
    }
   ],
   "source": [
    "tama = Cat()\n",
    "print('鳴き声:{}, 足の数:{}, 動物:{}'.format(tama.cry, tama.legs, tama.is_animal))"
   ]
  },
  {
   "cell_type": "code",
   "execution_count": 16,
   "metadata": {},
   "outputs": [],
   "source": [
    "class Person:\n",
    "    def __init__(self,\n",
    "                 name = '',\n",
    "                 nationality = '',\n",
    "                 birth = '',\n",
    "                 address = ''):\n",
    "        self.name = name\n",
    "        self.nationality = nationality\n",
    "        self.birth = birth\n",
    "        self.address = address\n",
    "\n",
    "    def show_attributes(self):\n",
    "        print('名前:', self.name)\n",
    "        print('国籍:', self.nationality)\n",
    "        print('生まれた場所:', self.birth)\n",
    "        print('住んでいる所:', self.address)"
   ]
  },
  {
   "cell_type": "code",
   "execution_count": 17,
   "metadata": {
    "tags": []
   },
   "outputs": [
    {
     "output_type": "stream",
     "name": "stdout",
     "text": "名前: かぐや姫\n国籍: 日本\n生まれた場所: 685\n住んでいる所: 静岡県富士市\n"
    }
   ],
   "source": [
    "heroine = Person('かぐや姫', '日本', '685', '静岡県富士市')\n",
    "heroine.show_attributes()"
   ]
  }
 ]
}