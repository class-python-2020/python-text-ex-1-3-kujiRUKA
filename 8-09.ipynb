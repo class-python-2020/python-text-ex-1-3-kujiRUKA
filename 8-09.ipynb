{
 "metadata": {
  "language_info": {
   "codemirror_mode": {
    "name": "ipython",
    "version": 3
   },
   "file_extension": ".py",
   "mimetype": "text/x-python",
   "name": "python",
   "nbconvert_exporter": "python",
   "pygments_lexer": "ipython3",
   "version": "3.8.2-final"
  },
  "orig_nbformat": 2,
  "kernelspec": {
   "name": "python38232bitefe644632efe4e06a76564c1a0213443",
   "display_name": "Python 3.8.2 32-bit"
  }
 },
 "nbformat": 4,
 "nbformat_minor": 2,
 "cells": [
  {
   "cell_type": "code",
   "execution_count": 1,
   "metadata": {},
   "outputs": [
    {
     "output_type": "execute_result",
     "data": {
      "text/plain": "0.30000000000000004"
     },
     "metadata": {},
     "execution_count": 1
    }
   ],
   "source": [
    "# decimal\n",
    "# Decimal クラスとは\n",
    "0.1 * 3"
   ]
  },
  {
   "cell_type": "code",
   "execution_count": 2,
   "metadata": {},
   "outputs": [
    {
     "output_type": "execute_result",
     "data": {
      "text/plain": "False"
     },
     "metadata": {},
     "execution_count": 2
    }
   ],
   "source": [
    "0.1 * 3 == 0.3"
   ]
  },
  {
   "cell_type": "code",
   "execution_count": 3,
   "metadata": {},
   "outputs": [],
   "source": [
    "# Decimal クラスの使い方\n",
    "from decimal import Decimal"
   ]
  },
  {
   "cell_type": "code",
   "execution_count": 4,
   "metadata": {
    "tags": []
   },
   "outputs": [
    {
     "output_type": "stream",
     "name": "stdout",
     "text": "0.1 0.3\n"
    },
    {
     "output_type": "execute_result",
     "data": {
      "text/plain": "(Decimal('0.1'), Decimal('0.3'))"
     },
     "metadata": {},
     "execution_count": 4
    }
   ],
   "source": [
    "# 文字列型を引数に渡す\n",
    "d0 = Decimal('0.1')\n",
    "print(d0,d0 * 3)\n",
    "d0, d0 * 3"
   ]
  },
  {
   "cell_type": "code",
   "execution_count": 5,
   "metadata": {},
   "outputs": [
    {
     "output_type": "execute_result",
     "data": {
      "text/plain": "True"
     },
     "metadata": {},
     "execution_count": 5
    }
   ],
   "source": [
    "Decimal('0.1') * 3 == Decimal('0.3')"
   ]
  },
  {
   "cell_type": "code",
   "execution_count": 6,
   "metadata": {
    "tags": []
   },
   "outputs": [
    {
     "output_type": "stream",
     "name": "stdout",
     "text": "0.1000000000000000055511151231257827021181583404541015625 0.3000000000000000166533453694\n"
    },
    {
     "output_type": "execute_result",
     "data": {
      "text/plain": "(Decimal('0.1000000000000000055511151231257827021181583404541015625'),\n Decimal('0.3000000000000000166533453694'))"
     },
     "metadata": {},
     "execution_count": 6
    }
   ],
   "source": [
    "# float 型を引数に渡す\n",
    "d1 = Decimal(0.1)\n",
    "print(d1, d1 * 3)\n",
    "d1, d1 * 3"
   ]
  },
  {
   "cell_type": "code",
   "execution_count": 7,
   "metadata": {
    "tags": []
   },
   "outputs": [
    {
     "output_type": "stream",
     "name": "stdout",
     "text": "3.14 -1.414\n"
    },
    {
     "output_type": "execute_result",
     "data": {
      "text/plain": "(Decimal('3.14'), Decimal('-1.414'))"
     },
     "metadata": {},
     "execution_count": 7
    }
   ],
   "source": [
    "# (符号、(それぞれの桁の値のタプル)、指数)のタプルを引数に渡す\n",
    "deci_pi = Decimal((0, (3, 1, 4), -2))\n",
    "n_sqrt_2 = Decimal((1, (1, 4, 1, 4), -3))\n",
    "\n",
    "print(deci_pi, n_sqrt_2)\n",
    "deci_pi, n_sqrt_2"
   ]
  },
  {
   "cell_type": "code",
   "execution_count": 8,
   "metadata": {},
   "outputs": [],
   "source": [
    "# float の混入を避ける\n",
    "from decimal import Decimal, getcontext, FloatOperation\n",
    "# float トラップを有効にする\n",
    "getcontext().traps[FloatOperation] = True"
   ]
  },
  {
   "cell_type": "code",
   "execution_count": 9,
   "metadata": {},
   "outputs": [
    {
     "output_type": "execute_result",
     "data": {
      "text/plain": "Decimal('0.1000000000000000055511151231257827021181583404541015625')"
     },
     "metadata": {},
     "execution_count": 9
    }
   ],
   "source": [
    "Decimal(0.1)"
   ]
  },
  {
   "cell_type": "code",
   "execution_count": 10,
   "metadata": {},
   "outputs": [
    {
     "output_type": "execute_result",
     "data": {
      "text/plain": "Decimal('2.500')"
     },
     "metadata": {},
     "execution_count": 10
    }
   ],
   "source": [
    "# 有効桁数を表記した計算\n",
    "Decimal('1.300') + Decimal('1.200')"
   ]
  },
  {
   "cell_type": "code",
   "execution_count": 11,
   "metadata": {
    "tags": []
   },
   "outputs": [
    {
     "output_type": "stream",
     "name": "stdout",
     "text": "2.500\n"
    }
   ],
   "source": [
    "print(Decimal('1.300') + Decimal('1.200'))"
   ]
  },
  {
   "cell_type": "code",
   "execution_count": 12,
   "metadata": {},
   "outputs": [
    {
     "output_type": "execute_result",
     "data": {
      "text/plain": "Decimal('1.56')"
     },
     "metadata": {},
     "execution_count": 12
    }
   ],
   "source": [
    "Decimal('1.3') * Decimal('1.2')"
   ]
  },
  {
   "cell_type": "code",
   "execution_count": 13,
   "metadata": {},
   "outputs": [
    {
     "output_type": "execute_result",
     "data": {
      "text/plain": "Decimal('1.5600')"
     },
     "metadata": {},
     "execution_count": 13
    }
   ],
   "source": [
    "Decimal('1.30') * Decimal('1.20')"
   ]
  },
  {
   "cell_type": "code",
   "execution_count": 14,
   "metadata": {
    "tags": []
   },
   "outputs": [
    {
     "output_type": "stream",
     "name": "stdout",
     "text": "Context(prec=28, rounding=ROUND_HALF_EVEN, Emin=-999999, Emax=999999, capitals=1, clamp=0, flags=[], traps=[InvalidOperation, DivisionByZero, Overflow])\n"
    },
    {
     "output_type": "execute_result",
     "data": {
      "text/plain": "Decimal('0.1428571428571428571428571429')"
     },
     "metadata": {},
     "execution_count": 14
    }
   ],
   "source": [
    "# 計算精度を指定した計算\n",
    "from decimal import Decimal, getcontext\n",
    "print(getcontext())\n",
    "Decimal(1) / Decimal(7)"
   ]
  },
  {
   "cell_type": "code",
   "execution_count": 15,
   "metadata": {},
   "outputs": [
    {
     "output_type": "execute_result",
     "data": {
      "text/plain": "Decimal('0.142857')"
     },
     "metadata": {},
     "execution_count": 15
    }
   ],
   "source": [
    "getcontext().prec = 6\n",
    "Decimal(1) / Decimal(7)"
   ]
  },
  {
   "cell_type": "code",
   "execution_count": 16,
   "metadata": {},
   "outputs": [
    {
     "output_type": "execute_result",
     "data": {
      "text/plain": "Decimal('0.142857142857142857142857142857142857142857')"
     },
     "metadata": {},
     "execution_count": 16
    }
   ],
   "source": [
    "getcontext().prec = 42\n",
    "Decimal(1) / Decimal(7)"
   ]
  },
  {
   "cell_type": "code",
   "execution_count": 17,
   "metadata": {},
   "outputs": [
    {
     "output_type": "execute_result",
     "data": {
      "text/plain": "Decimal('7.32')"
     },
     "metadata": {},
     "execution_count": 17
    }
   ],
   "source": [
    "# 数値を丸める\n",
    "from decimal import ROUND_DOWN\n",
    "Decimal('7.325').quantize(Decimal('.01'), rounding=ROUND_DOWN)"
   ]
  },
  {
   "cell_type": "code",
   "execution_count": 18,
   "metadata": {},
   "outputs": [
    {
     "output_type": "execute_result",
     "data": {
      "text/plain": "Decimal('7.33')"
     },
     "metadata": {},
     "execution_count": 18
    }
   ],
   "source": [
    "from decimal import ROUND_HALF_UP\n",
    "Decimal('7.325').quantize(Decimal('.01'), rounding=ROUND_HALF_UP)"
   ]
  },
  {
   "cell_type": "code",
   "execution_count": 19,
   "metadata": {},
   "outputs": [
    {
     "output_type": "execute_result",
     "data": {
      "text/plain": "Decimal('1.414213562373095048801688724')"
     },
     "metadata": {},
     "execution_count": 19
    }
   ],
   "source": [
    "# 数字関数\n",
    "getcontext().prec = 28\n",
    "Decimal('2').sqrt()"
   ]
  },
  {
   "cell_type": "code",
   "execution_count": 20,
   "metadata": {},
   "outputs": [
    {
     "output_type": "execute_result",
     "data": {
      "text/plain": "Decimal('2.718281828459045235360287471')"
     },
     "metadata": {},
     "execution_count": 20
    }
   ],
   "source": [
    "Decimal('1').exp()"
   ]
  },
  {
   "cell_type": "code",
   "execution_count": 24,
   "metadata": {},
   "outputs": [
    {
     "output_type": "execute_result",
     "data": {
      "text/plain": "Decimal('2.302585092994045684017991455')"
     },
     "metadata": {},
     "execution_count": 24
    }
   ],
   "source": [
    "Decimal('10').ln()"
   ]
  },
  {
   "cell_type": "code",
   "execution_count": 25,
   "metadata": {},
   "outputs": [
    {
     "output_type": "execute_result",
     "data": {
      "text/plain": "Decimal('1')"
     },
     "metadata": {},
     "execution_count": 25
    }
   ],
   "source": [
    "Decimal('10').log10()"
   ]
  },
  {
   "cell_type": "code",
   "execution_count": 26,
   "metadata": {},
   "outputs": [
    {
     "output_type": "execute_result",
     "data": {
      "text/plain": "Decimal('0.0')"
     },
     "metadata": {},
     "execution_count": 26
    }
   ],
   "source": [
    "diff_d = Decimal(\"10_000_000_000.2\") - Decimal(\"10_000_000_000\")\n",
    "diff_d - Decimal(\"0.2\")"
   ]
  }
 ]
}