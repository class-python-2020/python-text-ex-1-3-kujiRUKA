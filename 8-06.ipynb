{
 "metadata": {
  "language_info": {
   "codemirror_mode": {
    "name": "ipython",
    "version": 3
   },
   "file_extension": ".py",
   "mimetype": "text/x-python",
   "name": "python",
   "nbconvert_exporter": "python",
   "pygments_lexer": "ipython3",
   "version": 3
  },
  "orig_nbformat": 2,
  "kernelspec": {
   "name": "python_defaultSpec_1596773085960",
   "display_name": "Python 3.8.2 32-bit"
  }
 },
 "nbformat": 4,
 "nbformat_minor": 2,
 "cells": [
  {
   "cell_type": "code",
   "execution_count": 1,
   "metadata": {},
   "outputs": [
    {
     "output_type": "execute_result",
     "data": {
      "text/plain": "datetime.date(2020, 8, 7)"
     },
     "metadata": {},
     "execution_count": 1
    }
   ],
   "source": [
    "# datetime\n",
    "# 現在年月日の取得\n",
    "from datetime import date\n",
    "day_now = date.today()\n",
    "day_now"
   ]
  },
  {
   "cell_type": "code",
   "execution_count": 3,
   "metadata": {},
   "outputs": [
    {
     "output_type": "execute_result",
     "data": {
      "text/plain": "datetime.timedelta(days=14829)"
     },
     "metadata": {},
     "execution_count": 3
    }
   ],
   "source": [
    "# 年月日の差分の取得\n",
    "xday = date(1980, 1, 1)\n",
    "td = day_now - xday\n",
    "td"
   ]
  },
  {
   "cell_type": "code",
   "execution_count": 5,
   "metadata": {
    "tags": []
   },
   "outputs": [
    {
     "output_type": "stream",
     "name": "stdout",
     "text": "2020-08-07 13:13:01.304324\n2020\n8\n7\n13\n13\n1\n304324\n"
    }
   ],
   "source": [
    "# 現在日時の取得\n",
    "from datetime import datetime\n",
    "now = datetime.today()\n",
    "print(now)\n",
    "print(now.year)\n",
    "print(now.month)\n",
    "print(now.day)\n",
    "print(now.hour)\n",
    "print(now.minute)\n",
    "print(now.second)\n",
    "print(now.microsecond)"
   ]
  },
  {
   "cell_type": "code",
   "execution_count": 6,
   "metadata": {},
   "outputs": [
    {
     "output_type": "execute_result",
     "data": {
      "text/plain": "datetime.datetime(2020, 8, 7, 13, 14, 20)"
     },
     "metadata": {},
     "execution_count": 6
    }
   ],
   "source": [
    "# 日時の生成\n",
    "datetime(2020, 8, 7, hour=13, minute=14, second=20, microsecond=0)"
   ]
  },
  {
   "cell_type": "code",
   "execution_count": 7,
   "metadata": {},
   "outputs": [
    {
     "output_type": "execute_result",
     "data": {
      "text/plain": "datetime.datetime(2020, 8, 7, 13, 15, 57, 918669)"
     },
     "metadata": {},
     "execution_count": 7
    }
   ],
   "source": [
    "# datetime モジュールで利用可能なデータクラス\n",
    "from datetime import datetime\n",
    "dt_now = datetime.now()\n",
    "dt_now"
   ]
  },
  {
   "cell_type": "code",
   "execution_count": 8,
   "metadata": {},
   "outputs": [
    {
     "output_type": "execute_result",
     "data": {
      "text/plain": "datetime.datetime(2020, 8, 7, 4, 23, 8, 956022, tzinfo=datetime.timezone.utc)"
     },
     "metadata": {},
     "execution_count": 8
    }
   ],
   "source": [
    "import datetime\n",
    "dt_now = datetime.datetime.now(datetime.timezone.utc)\n",
    "dt_now"
   ]
  },
  {
   "cell_type": "code",
   "execution_count": 9,
   "metadata": {},
   "outputs": [
    {
     "output_type": "execute_result",
     "data": {
      "text/plain": "datetime.date(2020, 8, 7)"
     },
     "metadata": {},
     "execution_count": 9
    }
   ],
   "source": [
    "dt_now.date()"
   ]
  },
  {
   "cell_type": "code",
   "execution_count": 10,
   "metadata": {},
   "outputs": [
    {
     "output_type": "execute_result",
     "data": {
      "text/plain": "datetime.time(4, 23, 8, 956022)"
     },
     "metadata": {},
     "execution_count": 10
    }
   ],
   "source": [
    "dt_now.time()"
   ]
  },
  {
   "cell_type": "code",
   "execution_count": 20,
   "metadata": {
    "tags": []
   },
   "outputs": [
    {
     "output_type": "execute_result",
     "data": {
      "text/plain": "datetime.datetime(2006, 11, 21, 16, 30)"
     },
     "metadata": {},
     "execution_count": 20
    }
   ],
   "source": [
    "dt = datetime.datetime.strptime(\"21/11/2006 16:30\", \"%d/%m/%Y %H:%M\")\n",
    "dt"
   ]
  },
  {
   "cell_type": "code",
   "execution_count": 19,
   "metadata": {},
   "outputs": [
    {
     "output_type": "execute_result",
     "data": {
      "text/plain": "datetime.datetime(2006, 11, 22, 16, 30)"
     },
     "metadata": {},
     "execution_count": 19
    }
   ],
   "source": [
    "# datetime と timedelta の演算\n",
    "import datetime\n",
    "t_delta = datetime.timedelta(days=1)\n",
    "dt = datetime.datetime.strptime(\"21/11/06 16:30\", \"%d/%m/%y %H:%M\")\n",
    "dt + t_delta"
   ]
  },
  {
   "cell_type": "code",
   "execution_count": 23,
   "metadata": {
    "tags": []
   },
   "outputs": [
    {
     "output_type": "stream",
     "name": "stdout",
     "text": "2018-01-05 12:01:30\n20180105120130\n"
    }
   ],
   "source": [
    "from datetime import datetime\n",
    "t_str = '20180105120130'\n",
    "dt = datetime.strptime(t_str, \"%Y%m%d%H%M%S\")\n",
    "print(dt)\n",
    "print(dt.strftime(\"%Y%m%d%H%M%S\"))"
   ]
  }
 ]
}